{
  "nbformat": 4,
  "nbformat_minor": 0,
  "metadata": {
    "colab": {
      "name": "spaCy.ipynb",
      "provenance": [],
      "include_colab_link": true
    },
    "kernelspec": {
      "name": "python3",
      "display_name": "Python 3"
    },
    "language_info": {
      "name": "python"
    }
  },
  "cells": [
    {
      "cell_type": "markdown",
      "metadata": {
        "id": "view-in-github",
        "colab_type": "text"
      },
      "source": [
        "<a href=\"https://colab.research.google.com/github/MWFK/NLP-from-Zero-to-Hero/blob/main/spaCy.ipynb\" target=\"_parent\"><img src=\"https://colab.research.google.com/assets/colab-badge.svg\" alt=\"Open In Colab\"/></a>"
      ]
    },
    {
      "cell_type": "code",
      "metadata": {
        "id": "qrwQAn4WZwRk",
        "colab": {
          "base_uri": "https://localhost:8080/"
        },
        "outputId": "35b24f16-7137-4512-add3-58e7db45fe40"
      },
      "source": [
        "!pip install spacy\n",
        "!python -m spacy validate"
      ],
      "execution_count": 1,
      "outputs": [
        {
          "output_type": "stream",
          "name": "stdout",
          "text": [
            "Requirement already satisfied: spacy in /usr/local/lib/python3.7/dist-packages (2.2.4)\n",
            "Requirement already satisfied: requests<3.0.0,>=2.13.0 in /usr/local/lib/python3.7/dist-packages (from spacy) (2.23.0)\n",
            "Requirement already satisfied: wasabi<1.1.0,>=0.4.0 in /usr/local/lib/python3.7/dist-packages (from spacy) (0.8.2)\n",
            "Requirement already satisfied: catalogue<1.1.0,>=0.0.7 in /usr/local/lib/python3.7/dist-packages (from spacy) (1.0.0)\n",
            "Requirement already satisfied: srsly<1.1.0,>=1.0.2 in /usr/local/lib/python3.7/dist-packages (from spacy) (1.0.5)\n",
            "Requirement already satisfied: tqdm<5.0.0,>=4.38.0 in /usr/local/lib/python3.7/dist-packages (from spacy) (4.62.3)\n",
            "Requirement already satisfied: numpy>=1.15.0 in /usr/local/lib/python3.7/dist-packages (from spacy) (1.19.5)\n",
            "Requirement already satisfied: plac<1.2.0,>=0.9.6 in /usr/local/lib/python3.7/dist-packages (from spacy) (1.1.3)\n",
            "Requirement already satisfied: preshed<3.1.0,>=3.0.2 in /usr/local/lib/python3.7/dist-packages (from spacy) (3.0.6)\n",
            "Requirement already satisfied: cymem<2.1.0,>=2.0.2 in /usr/local/lib/python3.7/dist-packages (from spacy) (2.0.6)\n",
            "Requirement already satisfied: setuptools in /usr/local/lib/python3.7/dist-packages (from spacy) (57.4.0)\n",
            "Requirement already satisfied: murmurhash<1.1.0,>=0.28.0 in /usr/local/lib/python3.7/dist-packages (from spacy) (1.0.6)\n",
            "Requirement already satisfied: blis<0.5.0,>=0.4.0 in /usr/local/lib/python3.7/dist-packages (from spacy) (0.4.1)\n",
            "Requirement already satisfied: thinc==7.4.0 in /usr/local/lib/python3.7/dist-packages (from spacy) (7.4.0)\n",
            "Requirement already satisfied: importlib-metadata>=0.20 in /usr/local/lib/python3.7/dist-packages (from catalogue<1.1.0,>=0.0.7->spacy) (4.8.2)\n",
            "Requirement already satisfied: zipp>=0.5 in /usr/local/lib/python3.7/dist-packages (from importlib-metadata>=0.20->catalogue<1.1.0,>=0.0.7->spacy) (3.6.0)\n",
            "Requirement already satisfied: typing-extensions>=3.6.4 in /usr/local/lib/python3.7/dist-packages (from importlib-metadata>=0.20->catalogue<1.1.0,>=0.0.7->spacy) (3.10.0.2)\n",
            "Requirement already satisfied: certifi>=2017.4.17 in /usr/local/lib/python3.7/dist-packages (from requests<3.0.0,>=2.13.0->spacy) (2021.10.8)\n",
            "Requirement already satisfied: urllib3!=1.25.0,!=1.25.1,<1.26,>=1.21.1 in /usr/local/lib/python3.7/dist-packages (from requests<3.0.0,>=2.13.0->spacy) (1.24.3)\n",
            "Requirement already satisfied: idna<3,>=2.5 in /usr/local/lib/python3.7/dist-packages (from requests<3.0.0,>=2.13.0->spacy) (2.10)\n",
            "Requirement already satisfied: chardet<4,>=3.0.2 in /usr/local/lib/python3.7/dist-packages (from requests<3.0.0,>=2.13.0->spacy) (3.0.4)\n"
          ]
        }
      ]
    },
    {
      "cell_type": "code",
      "metadata": {
        "colab": {
          "base_uri": "https://localhost:8080/"
        },
        "id": "aQbzy4B89pPY",
        "outputId": "b93eb0df-a6af-4ded-eb02-ae34dc543364"
      },
      "source": [
        "!pip install spacy-transformers"
      ],
      "execution_count": 2,
      "outputs": [
        {
          "output_type": "stream",
          "name": "stdout",
          "text": [
            "Collecting spacy-transformers\n",
            "  Downloading spacy_transformers-1.1.2-py2.py3-none-any.whl (51 kB)\n",
            "\u001b[K     |████████████████████████████████| 51 kB 157 kB/s \n",
            "\u001b[?25hCollecting spacy<4.0.0,>=3.1.3\n",
            "  Downloading spacy-3.2.0-cp37-cp37m-manylinux_2_17_x86_64.manylinux2014_x86_64.whl (6.0 MB)\n",
            "\u001b[K     |████████████████████████████████| 6.0 MB 9.8 MB/s \n",
            "\u001b[?25hRequirement already satisfied: torch>=1.6.0 in /usr/local/lib/python3.7/dist-packages (from spacy-transformers) (1.10.0+cu111)\n",
            "Collecting transformers<4.12.0,>=3.4.0\n",
            "  Downloading transformers-4.11.3-py3-none-any.whl (2.9 MB)\n",
            "\u001b[K     |████████████████████████████████| 2.9 MB 48.8 MB/s \n",
            "\u001b[?25hCollecting srsly<3.0.0,>=2.4.0\n",
            "  Downloading srsly-2.4.2-cp37-cp37m-manylinux_2_17_x86_64.manylinux2014_x86_64.whl (451 kB)\n",
            "\u001b[K     |████████████████████████████████| 451 kB 60.6 MB/s \n",
            "\u001b[?25hCollecting spacy-alignments<1.0.0,>=0.7.2\n",
            "  Downloading spacy_alignments-0.8.4-cp37-cp37m-manylinux_2_17_x86_64.manylinux2014_x86_64.whl (1.1 MB)\n",
            "\u001b[K     |████████████████████████████████| 1.1 MB 81.1 MB/s \n",
            "\u001b[?25hCollecting catalogue<2.1.0,>=2.0.6\n",
            "  Downloading catalogue-2.0.6-py3-none-any.whl (17 kB)\n",
            "Collecting typer<0.5.0,>=0.3.0\n",
            "  Downloading typer-0.4.0-py3-none-any.whl (27 kB)\n",
            "Collecting pathy>=0.3.5\n",
            "  Downloading pathy-0.6.1-py3-none-any.whl (42 kB)\n",
            "\u001b[K     |████████████████████████████████| 42 kB 1.7 MB/s \n",
            "\u001b[?25hRequirement already satisfied: murmurhash<1.1.0,>=0.28.0 in /usr/local/lib/python3.7/dist-packages (from spacy<4.0.0,>=3.1.3->spacy-transformers) (1.0.6)\n",
            "Requirement already satisfied: tqdm<5.0.0,>=4.38.0 in /usr/local/lib/python3.7/dist-packages (from spacy<4.0.0,>=3.1.3->spacy-transformers) (4.62.3)\n",
            "Collecting langcodes<4.0.0,>=3.2.0\n",
            "  Downloading langcodes-3.3.0-py3-none-any.whl (181 kB)\n",
            "\u001b[K     |████████████████████████████████| 181 kB 60.0 MB/s \n",
            "\u001b[?25hRequirement already satisfied: requests<3.0.0,>=2.13.0 in /usr/local/lib/python3.7/dist-packages (from spacy<4.0.0,>=3.1.3->spacy-transformers) (2.23.0)\n",
            "Collecting spacy-loggers<2.0.0,>=1.0.0\n",
            "  Downloading spacy_loggers-1.0.1-py3-none-any.whl (7.0 kB)\n",
            "Requirement already satisfied: blis<0.8.0,>=0.4.0 in /usr/local/lib/python3.7/dist-packages (from spacy<4.0.0,>=3.1.3->spacy-transformers) (0.4.1)\n",
            "Collecting pydantic!=1.8,!=1.8.1,<1.9.0,>=1.7.4\n",
            "  Downloading pydantic-1.8.2-cp37-cp37m-manylinux2014_x86_64.whl (10.1 MB)\n",
            "\u001b[K     |████████████████████████████████| 10.1 MB 20.6 MB/s \n",
            "\u001b[?25hRequirement already satisfied: setuptools in /usr/local/lib/python3.7/dist-packages (from spacy<4.0.0,>=3.1.3->spacy-transformers) (57.4.0)\n",
            "Requirement already satisfied: wasabi<1.1.0,>=0.8.1 in /usr/local/lib/python3.7/dist-packages (from spacy<4.0.0,>=3.1.3->spacy-transformers) (0.8.2)\n",
            "Requirement already satisfied: packaging>=20.0 in /usr/local/lib/python3.7/dist-packages (from spacy<4.0.0,>=3.1.3->spacy-transformers) (21.2)\n",
            "Requirement already satisfied: numpy>=1.15.0 in /usr/local/lib/python3.7/dist-packages (from spacy<4.0.0,>=3.1.3->spacy-transformers) (1.19.5)\n",
            "Requirement already satisfied: jinja2 in /usr/local/lib/python3.7/dist-packages (from spacy<4.0.0,>=3.1.3->spacy-transformers) (2.11.3)\n",
            "Requirement already satisfied: cymem<2.1.0,>=2.0.2 in /usr/local/lib/python3.7/dist-packages (from spacy<4.0.0,>=3.1.3->spacy-transformers) (2.0.6)\n",
            "Collecting thinc<8.1.0,>=8.0.12\n",
            "  Downloading thinc-8.0.13-cp37-cp37m-manylinux_2_17_x86_64.manylinux2014_x86_64.whl (628 kB)\n",
            "\u001b[K     |████████████████████████████████| 628 kB 70.1 MB/s \n",
            "\u001b[?25hRequirement already satisfied: preshed<3.1.0,>=3.0.2 in /usr/local/lib/python3.7/dist-packages (from spacy<4.0.0,>=3.1.3->spacy-transformers) (3.0.6)\n",
            "Collecting spacy-legacy<3.1.0,>=3.0.8\n",
            "  Downloading spacy_legacy-3.0.8-py2.py3-none-any.whl (14 kB)\n",
            "Requirement already satisfied: typing-extensions<4.0.0.0,>=3.7.4 in /usr/local/lib/python3.7/dist-packages (from spacy<4.0.0,>=3.1.3->spacy-transformers) (3.10.0.2)\n",
            "Requirement already satisfied: zipp>=0.5 in /usr/local/lib/python3.7/dist-packages (from catalogue<2.1.0,>=2.0.6->spacy<4.0.0,>=3.1.3->spacy-transformers) (3.6.0)\n",
            "Requirement already satisfied: pyparsing<3,>=2.0.2 in /usr/local/lib/python3.7/dist-packages (from packaging>=20.0->spacy<4.0.0,>=3.1.3->spacy-transformers) (2.4.7)\n",
            "Requirement already satisfied: smart-open<6.0.0,>=5.0.0 in /usr/local/lib/python3.7/dist-packages (from pathy>=0.3.5->spacy<4.0.0,>=3.1.3->spacy-transformers) (5.2.1)\n",
            "Requirement already satisfied: urllib3!=1.25.0,!=1.25.1,<1.26,>=1.21.1 in /usr/local/lib/python3.7/dist-packages (from requests<3.0.0,>=2.13.0->spacy<4.0.0,>=3.1.3->spacy-transformers) (1.24.3)\n",
            "Requirement already satisfied: idna<3,>=2.5 in /usr/local/lib/python3.7/dist-packages (from requests<3.0.0,>=2.13.0->spacy<4.0.0,>=3.1.3->spacy-transformers) (2.10)\n",
            "Requirement already satisfied: certifi>=2017.4.17 in /usr/local/lib/python3.7/dist-packages (from requests<3.0.0,>=2.13.0->spacy<4.0.0,>=3.1.3->spacy-transformers) (2021.10.8)\n",
            "Requirement already satisfied: chardet<4,>=3.0.2 in /usr/local/lib/python3.7/dist-packages (from requests<3.0.0,>=2.13.0->spacy<4.0.0,>=3.1.3->spacy-transformers) (3.0.4)\n",
            "Collecting tokenizers<0.11,>=0.10.1\n",
            "  Downloading tokenizers-0.10.3-cp37-cp37m-manylinux_2_5_x86_64.manylinux1_x86_64.manylinux_2_12_x86_64.manylinux2010_x86_64.whl (3.3 MB)\n",
            "\u001b[K     |████████████████████████████████| 3.3 MB 49.1 MB/s \n",
            "\u001b[?25hRequirement already satisfied: regex!=2019.12.17 in /usr/local/lib/python3.7/dist-packages (from transformers<4.12.0,>=3.4.0->spacy-transformers) (2019.12.20)\n",
            "Requirement already satisfied: filelock in /usr/local/lib/python3.7/dist-packages (from transformers<4.12.0,>=3.4.0->spacy-transformers) (3.3.2)\n",
            "Requirement already satisfied: importlib-metadata in /usr/local/lib/python3.7/dist-packages (from transformers<4.12.0,>=3.4.0->spacy-transformers) (4.8.2)\n",
            "Collecting pyyaml>=5.1\n",
            "  Downloading PyYAML-6.0-cp37-cp37m-manylinux_2_5_x86_64.manylinux1_x86_64.manylinux_2_12_x86_64.manylinux2010_x86_64.whl (596 kB)\n",
            "\u001b[K     |████████████████████████████████| 596 kB 88.3 MB/s \n",
            "\u001b[?25hCollecting huggingface-hub>=0.0.17\n",
            "  Downloading huggingface_hub-0.1.2-py3-none-any.whl (59 kB)\n",
            "\u001b[K     |████████████████████████████████| 59 kB 8.4 MB/s \n",
            "\u001b[?25hCollecting sacremoses\n",
            "  Downloading sacremoses-0.0.46-py3-none-any.whl (895 kB)\n",
            "\u001b[K     |████████████████████████████████| 895 kB 64.1 MB/s \n",
            "\u001b[?25hRequirement already satisfied: click<9.0.0,>=7.1.1 in /usr/local/lib/python3.7/dist-packages (from typer<0.5.0,>=0.3.0->spacy<4.0.0,>=3.1.3->spacy-transformers) (7.1.2)\n",
            "Requirement already satisfied: MarkupSafe>=0.23 in /usr/local/lib/python3.7/dist-packages (from jinja2->spacy<4.0.0,>=3.1.3->spacy-transformers) (2.0.1)\n",
            "Requirement already satisfied: six in /usr/local/lib/python3.7/dist-packages (from sacremoses->transformers<4.12.0,>=3.4.0->spacy-transformers) (1.15.0)\n",
            "Requirement already satisfied: joblib in /usr/local/lib/python3.7/dist-packages (from sacremoses->transformers<4.12.0,>=3.4.0->spacy-transformers) (1.1.0)\n",
            "Installing collected packages: catalogue, typer, srsly, pyyaml, pydantic, tokenizers, thinc, spacy-loggers, spacy-legacy, sacremoses, pathy, langcodes, huggingface-hub, transformers, spacy-alignments, spacy, spacy-transformers\n",
            "  Attempting uninstall: catalogue\n",
            "    Found existing installation: catalogue 1.0.0\n",
            "    Uninstalling catalogue-1.0.0:\n",
            "      Successfully uninstalled catalogue-1.0.0\n",
            "  Attempting uninstall: srsly\n",
            "    Found existing installation: srsly 1.0.5\n",
            "    Uninstalling srsly-1.0.5:\n",
            "      Successfully uninstalled srsly-1.0.5\n",
            "  Attempting uninstall: pyyaml\n",
            "    Found existing installation: PyYAML 3.13\n",
            "    Uninstalling PyYAML-3.13:\n",
            "      Successfully uninstalled PyYAML-3.13\n",
            "  Attempting uninstall: thinc\n",
            "    Found existing installation: thinc 7.4.0\n",
            "    Uninstalling thinc-7.4.0:\n",
            "      Successfully uninstalled thinc-7.4.0\n",
            "  Attempting uninstall: spacy\n",
            "    Found existing installation: spacy 2.2.4\n",
            "    Uninstalling spacy-2.2.4:\n",
            "      Successfully uninstalled spacy-2.2.4\n",
            "Successfully installed catalogue-2.0.6 huggingface-hub-0.1.2 langcodes-3.3.0 pathy-0.6.1 pydantic-1.8.2 pyyaml-6.0 sacremoses-0.0.46 spacy-3.2.0 spacy-alignments-0.8.4 spacy-legacy-3.0.8 spacy-loggers-1.0.1 spacy-transformers-1.1.2 srsly-2.4.2 thinc-8.0.13 tokenizers-0.10.3 transformers-4.11.3 typer-0.4.0\n"
          ]
        }
      ]
    },
    {
      "cell_type": "code",
      "metadata": {
        "colab": {
          "base_uri": "https://localhost:8080/"
        },
        "id": "KJoxzNI29rQj",
        "outputId": "c68e89c1-043c-4be3-a8cb-5f3175abcd1d"
      },
      "source": [
        "!python -m spacy download en_core_web_trf"
      ],
      "execution_count": 3,
      "outputs": [
        {
          "output_type": "stream",
          "name": "stdout",
          "text": [
            "Collecting en-core-web-trf==3.2.0\n",
            "  Downloading https://github.com/explosion/spacy-models/releases/download/en_core_web_trf-3.2.0/en_core_web_trf-3.2.0-py3-none-any.whl (460.2 MB)\n",
            "\u001b[K     |████████████████████████████████| 460.2 MB 5.9 kB/s \n",
            "\u001b[?25hRequirement already satisfied: spacy-transformers<1.2.0,>=1.1.2 in /usr/local/lib/python3.7/dist-packages (from en-core-web-trf==3.2.0) (1.1.2)\n",
            "Requirement already satisfied: spacy<3.3.0,>=3.2.0 in /usr/local/lib/python3.7/dist-packages (from en-core-web-trf==3.2.0) (3.2.0)\n",
            "Requirement already satisfied: spacy-legacy<3.1.0,>=3.0.8 in /usr/local/lib/python3.7/dist-packages (from spacy<3.3.0,>=3.2.0->en-core-web-trf==3.2.0) (3.0.8)\n",
            "Requirement already satisfied: blis<0.8.0,>=0.4.0 in /usr/local/lib/python3.7/dist-packages (from spacy<3.3.0,>=3.2.0->en-core-web-trf==3.2.0) (0.4.1)\n",
            "Requirement already satisfied: typing-extensions<4.0.0.0,>=3.7.4 in /usr/local/lib/python3.7/dist-packages (from spacy<3.3.0,>=3.2.0->en-core-web-trf==3.2.0) (3.10.0.2)\n",
            "Requirement already satisfied: srsly<3.0.0,>=2.4.1 in /usr/local/lib/python3.7/dist-packages (from spacy<3.3.0,>=3.2.0->en-core-web-trf==3.2.0) (2.4.2)\n",
            "Requirement already satisfied: thinc<8.1.0,>=8.0.12 in /usr/local/lib/python3.7/dist-packages (from spacy<3.3.0,>=3.2.0->en-core-web-trf==3.2.0) (8.0.13)\n",
            "Requirement already satisfied: tqdm<5.0.0,>=4.38.0 in /usr/local/lib/python3.7/dist-packages (from spacy<3.3.0,>=3.2.0->en-core-web-trf==3.2.0) (4.62.3)\n",
            "Requirement already satisfied: wasabi<1.1.0,>=0.8.1 in /usr/local/lib/python3.7/dist-packages (from spacy<3.3.0,>=3.2.0->en-core-web-trf==3.2.0) (0.8.2)\n",
            "Requirement already satisfied: requests<3.0.0,>=2.13.0 in /usr/local/lib/python3.7/dist-packages (from spacy<3.3.0,>=3.2.0->en-core-web-trf==3.2.0) (2.23.0)\n",
            "Requirement already satisfied: jinja2 in /usr/local/lib/python3.7/dist-packages (from spacy<3.3.0,>=3.2.0->en-core-web-trf==3.2.0) (2.11.3)\n",
            "Requirement already satisfied: numpy>=1.15.0 in /usr/local/lib/python3.7/dist-packages (from spacy<3.3.0,>=3.2.0->en-core-web-trf==3.2.0) (1.19.5)\n",
            "Requirement already satisfied: setuptools in /usr/local/lib/python3.7/dist-packages (from spacy<3.3.0,>=3.2.0->en-core-web-trf==3.2.0) (57.4.0)\n",
            "Requirement already satisfied: catalogue<2.1.0,>=2.0.6 in /usr/local/lib/python3.7/dist-packages (from spacy<3.3.0,>=3.2.0->en-core-web-trf==3.2.0) (2.0.6)\n",
            "Requirement already satisfied: pydantic!=1.8,!=1.8.1,<1.9.0,>=1.7.4 in /usr/local/lib/python3.7/dist-packages (from spacy<3.3.0,>=3.2.0->en-core-web-trf==3.2.0) (1.8.2)\n",
            "Requirement already satisfied: spacy-loggers<2.0.0,>=1.0.0 in /usr/local/lib/python3.7/dist-packages (from spacy<3.3.0,>=3.2.0->en-core-web-trf==3.2.0) (1.0.1)\n",
            "Requirement already satisfied: pathy>=0.3.5 in /usr/local/lib/python3.7/dist-packages (from spacy<3.3.0,>=3.2.0->en-core-web-trf==3.2.0) (0.6.1)\n",
            "Requirement already satisfied: langcodes<4.0.0,>=3.2.0 in /usr/local/lib/python3.7/dist-packages (from spacy<3.3.0,>=3.2.0->en-core-web-trf==3.2.0) (3.3.0)\n",
            "Requirement already satisfied: preshed<3.1.0,>=3.0.2 in /usr/local/lib/python3.7/dist-packages (from spacy<3.3.0,>=3.2.0->en-core-web-trf==3.2.0) (3.0.6)\n",
            "Requirement already satisfied: packaging>=20.0 in /usr/local/lib/python3.7/dist-packages (from spacy<3.3.0,>=3.2.0->en-core-web-trf==3.2.0) (21.2)\n",
            "Requirement already satisfied: cymem<2.1.0,>=2.0.2 in /usr/local/lib/python3.7/dist-packages (from spacy<3.3.0,>=3.2.0->en-core-web-trf==3.2.0) (2.0.6)\n",
            "Requirement already satisfied: typer<0.5.0,>=0.3.0 in /usr/local/lib/python3.7/dist-packages (from spacy<3.3.0,>=3.2.0->en-core-web-trf==3.2.0) (0.4.0)\n",
            "Requirement already satisfied: murmurhash<1.1.0,>=0.28.0 in /usr/local/lib/python3.7/dist-packages (from spacy<3.3.0,>=3.2.0->en-core-web-trf==3.2.0) (1.0.6)\n",
            "Requirement already satisfied: zipp>=0.5 in /usr/local/lib/python3.7/dist-packages (from catalogue<2.1.0,>=2.0.6->spacy<3.3.0,>=3.2.0->en-core-web-trf==3.2.0) (3.6.0)\n",
            "Requirement already satisfied: pyparsing<3,>=2.0.2 in /usr/local/lib/python3.7/dist-packages (from packaging>=20.0->spacy<3.3.0,>=3.2.0->en-core-web-trf==3.2.0) (2.4.7)\n",
            "Requirement already satisfied: smart-open<6.0.0,>=5.0.0 in /usr/local/lib/python3.7/dist-packages (from pathy>=0.3.5->spacy<3.3.0,>=3.2.0->en-core-web-trf==3.2.0) (5.2.1)\n",
            "Requirement already satisfied: idna<3,>=2.5 in /usr/local/lib/python3.7/dist-packages (from requests<3.0.0,>=2.13.0->spacy<3.3.0,>=3.2.0->en-core-web-trf==3.2.0) (2.10)\n",
            "Requirement already satisfied: chardet<4,>=3.0.2 in /usr/local/lib/python3.7/dist-packages (from requests<3.0.0,>=2.13.0->spacy<3.3.0,>=3.2.0->en-core-web-trf==3.2.0) (3.0.4)\n",
            "Requirement already satisfied: urllib3!=1.25.0,!=1.25.1,<1.26,>=1.21.1 in /usr/local/lib/python3.7/dist-packages (from requests<3.0.0,>=2.13.0->spacy<3.3.0,>=3.2.0->en-core-web-trf==3.2.0) (1.24.3)\n",
            "Requirement already satisfied: certifi>=2017.4.17 in /usr/local/lib/python3.7/dist-packages (from requests<3.0.0,>=2.13.0->spacy<3.3.0,>=3.2.0->en-core-web-trf==3.2.0) (2021.10.8)\n",
            "Requirement already satisfied: spacy-alignments<1.0.0,>=0.7.2 in /usr/local/lib/python3.7/dist-packages (from spacy-transformers<1.2.0,>=1.1.2->en-core-web-trf==3.2.0) (0.8.4)\n",
            "Requirement already satisfied: transformers<4.12.0,>=3.4.0 in /usr/local/lib/python3.7/dist-packages (from spacy-transformers<1.2.0,>=1.1.2->en-core-web-trf==3.2.0) (4.11.3)\n",
            "Requirement already satisfied: torch>=1.6.0 in /usr/local/lib/python3.7/dist-packages (from spacy-transformers<1.2.0,>=1.1.2->en-core-web-trf==3.2.0) (1.10.0+cu111)\n",
            "Requirement already satisfied: regex!=2019.12.17 in /usr/local/lib/python3.7/dist-packages (from transformers<4.12.0,>=3.4.0->spacy-transformers<1.2.0,>=1.1.2->en-core-web-trf==3.2.0) (2019.12.20)\n",
            "Requirement already satisfied: huggingface-hub>=0.0.17 in /usr/local/lib/python3.7/dist-packages (from transformers<4.12.0,>=3.4.0->spacy-transformers<1.2.0,>=1.1.2->en-core-web-trf==3.2.0) (0.1.2)\n",
            "Requirement already satisfied: pyyaml>=5.1 in /usr/local/lib/python3.7/dist-packages (from transformers<4.12.0,>=3.4.0->spacy-transformers<1.2.0,>=1.1.2->en-core-web-trf==3.2.0) (6.0)\n",
            "Requirement already satisfied: sacremoses in /usr/local/lib/python3.7/dist-packages (from transformers<4.12.0,>=3.4.0->spacy-transformers<1.2.0,>=1.1.2->en-core-web-trf==3.2.0) (0.0.46)\n",
            "Requirement already satisfied: filelock in /usr/local/lib/python3.7/dist-packages (from transformers<4.12.0,>=3.4.0->spacy-transformers<1.2.0,>=1.1.2->en-core-web-trf==3.2.0) (3.3.2)\n",
            "Requirement already satisfied: tokenizers<0.11,>=0.10.1 in /usr/local/lib/python3.7/dist-packages (from transformers<4.12.0,>=3.4.0->spacy-transformers<1.2.0,>=1.1.2->en-core-web-trf==3.2.0) (0.10.3)\n",
            "Requirement already satisfied: importlib-metadata in /usr/local/lib/python3.7/dist-packages (from transformers<4.12.0,>=3.4.0->spacy-transformers<1.2.0,>=1.1.2->en-core-web-trf==3.2.0) (4.8.2)\n",
            "Requirement already satisfied: click<9.0.0,>=7.1.1 in /usr/local/lib/python3.7/dist-packages (from typer<0.5.0,>=0.3.0->spacy<3.3.0,>=3.2.0->en-core-web-trf==3.2.0) (7.1.2)\n",
            "Requirement already satisfied: MarkupSafe>=0.23 in /usr/local/lib/python3.7/dist-packages (from jinja2->spacy<3.3.0,>=3.2.0->en-core-web-trf==3.2.0) (2.0.1)\n",
            "Requirement already satisfied: six in /usr/local/lib/python3.7/dist-packages (from sacremoses->transformers<4.12.0,>=3.4.0->spacy-transformers<1.2.0,>=1.1.2->en-core-web-trf==3.2.0) (1.15.0)\n",
            "Requirement already satisfied: joblib in /usr/local/lib/python3.7/dist-packages (from sacremoses->transformers<4.12.0,>=3.4.0->spacy-transformers<1.2.0,>=1.1.2->en-core-web-trf==3.2.0) (1.1.0)\n",
            "Installing collected packages: en-core-web-trf\n",
            "Successfully installed en-core-web-trf-3.2.0\n",
            "\u001b[38;5;2m✔ Download and installation successful\u001b[0m\n",
            "You can now load the package via spacy.load('en_core_web_trf')\n"
          ]
        }
      ]
    },
    {
      "cell_type": "code",
      "metadata": {
        "colab": {
          "base_uri": "https://localhost:8080/"
        },
        "id": "_DvKm6ik9swz",
        "outputId": "ccb93c77-3262-4b43-a735-07dd6baa9e3e"
      },
      "source": [
        "!python -m spacy download en_core_web_lg"
      ],
      "execution_count": 4,
      "outputs": [
        {
          "output_type": "stream",
          "name": "stdout",
          "text": [
            "Collecting en-core-web-lg==3.2.0\n",
            "  Downloading https://github.com/explosion/spacy-models/releases/download/en_core_web_lg-3.2.0/en_core_web_lg-3.2.0-py3-none-any.whl (777.4 MB)\n",
            "\u001b[K     |████████████████████████████████| 777.4 MB 1.3 kB/s \n",
            "\u001b[?25hRequirement already satisfied: spacy<3.3.0,>=3.2.0 in /usr/local/lib/python3.7/dist-packages (from en-core-web-lg==3.2.0) (3.2.0)\n",
            "Requirement already satisfied: blis<0.8.0,>=0.4.0 in /usr/local/lib/python3.7/dist-packages (from spacy<3.3.0,>=3.2.0->en-core-web-lg==3.2.0) (0.4.1)\n",
            "Requirement already satisfied: typing-extensions<4.0.0.0,>=3.7.4 in /usr/local/lib/python3.7/dist-packages (from spacy<3.3.0,>=3.2.0->en-core-web-lg==3.2.0) (3.10.0.2)\n",
            "Requirement already satisfied: pathy>=0.3.5 in /usr/local/lib/python3.7/dist-packages (from spacy<3.3.0,>=3.2.0->en-core-web-lg==3.2.0) (0.6.1)\n",
            "Requirement already satisfied: setuptools in /usr/local/lib/python3.7/dist-packages (from spacy<3.3.0,>=3.2.0->en-core-web-lg==3.2.0) (57.4.0)\n",
            "Requirement already satisfied: spacy-legacy<3.1.0,>=3.0.8 in /usr/local/lib/python3.7/dist-packages (from spacy<3.3.0,>=3.2.0->en-core-web-lg==3.2.0) (3.0.8)\n",
            "Requirement already satisfied: packaging>=20.0 in /usr/local/lib/python3.7/dist-packages (from spacy<3.3.0,>=3.2.0->en-core-web-lg==3.2.0) (21.2)\n",
            "Requirement already satisfied: murmurhash<1.1.0,>=0.28.0 in /usr/local/lib/python3.7/dist-packages (from spacy<3.3.0,>=3.2.0->en-core-web-lg==3.2.0) (1.0.6)\n",
            "Requirement already satisfied: requests<3.0.0,>=2.13.0 in /usr/local/lib/python3.7/dist-packages (from spacy<3.3.0,>=3.2.0->en-core-web-lg==3.2.0) (2.23.0)\n",
            "Requirement already satisfied: cymem<2.1.0,>=2.0.2 in /usr/local/lib/python3.7/dist-packages (from spacy<3.3.0,>=3.2.0->en-core-web-lg==3.2.0) (2.0.6)\n",
            "Requirement already satisfied: pydantic!=1.8,!=1.8.1,<1.9.0,>=1.7.4 in /usr/local/lib/python3.7/dist-packages (from spacy<3.3.0,>=3.2.0->en-core-web-lg==3.2.0) (1.8.2)\n",
            "Requirement already satisfied: catalogue<2.1.0,>=2.0.6 in /usr/local/lib/python3.7/dist-packages (from spacy<3.3.0,>=3.2.0->en-core-web-lg==3.2.0) (2.0.6)\n",
            "Requirement already satisfied: thinc<8.1.0,>=8.0.12 in /usr/local/lib/python3.7/dist-packages (from spacy<3.3.0,>=3.2.0->en-core-web-lg==3.2.0) (8.0.13)\n",
            "Requirement already satisfied: jinja2 in /usr/local/lib/python3.7/dist-packages (from spacy<3.3.0,>=3.2.0->en-core-web-lg==3.2.0) (2.11.3)\n",
            "Requirement already satisfied: numpy>=1.15.0 in /usr/local/lib/python3.7/dist-packages (from spacy<3.3.0,>=3.2.0->en-core-web-lg==3.2.0) (1.19.5)\n",
            "Requirement already satisfied: srsly<3.0.0,>=2.4.1 in /usr/local/lib/python3.7/dist-packages (from spacy<3.3.0,>=3.2.0->en-core-web-lg==3.2.0) (2.4.2)\n",
            "Requirement already satisfied: wasabi<1.1.0,>=0.8.1 in /usr/local/lib/python3.7/dist-packages (from spacy<3.3.0,>=3.2.0->en-core-web-lg==3.2.0) (0.8.2)\n",
            "Requirement already satisfied: langcodes<4.0.0,>=3.2.0 in /usr/local/lib/python3.7/dist-packages (from spacy<3.3.0,>=3.2.0->en-core-web-lg==3.2.0) (3.3.0)\n",
            "Requirement already satisfied: spacy-loggers<2.0.0,>=1.0.0 in /usr/local/lib/python3.7/dist-packages (from spacy<3.3.0,>=3.2.0->en-core-web-lg==3.2.0) (1.0.1)\n",
            "Requirement already satisfied: tqdm<5.0.0,>=4.38.0 in /usr/local/lib/python3.7/dist-packages (from spacy<3.3.0,>=3.2.0->en-core-web-lg==3.2.0) (4.62.3)\n",
            "Requirement already satisfied: preshed<3.1.0,>=3.0.2 in /usr/local/lib/python3.7/dist-packages (from spacy<3.3.0,>=3.2.0->en-core-web-lg==3.2.0) (3.0.6)\n",
            "Requirement already satisfied: typer<0.5.0,>=0.3.0 in /usr/local/lib/python3.7/dist-packages (from spacy<3.3.0,>=3.2.0->en-core-web-lg==3.2.0) (0.4.0)\n",
            "Requirement already satisfied: zipp>=0.5 in /usr/local/lib/python3.7/dist-packages (from catalogue<2.1.0,>=2.0.6->spacy<3.3.0,>=3.2.0->en-core-web-lg==3.2.0) (3.6.0)\n",
            "Requirement already satisfied: pyparsing<3,>=2.0.2 in /usr/local/lib/python3.7/dist-packages (from packaging>=20.0->spacy<3.3.0,>=3.2.0->en-core-web-lg==3.2.0) (2.4.7)\n",
            "Requirement already satisfied: smart-open<6.0.0,>=5.0.0 in /usr/local/lib/python3.7/dist-packages (from pathy>=0.3.5->spacy<3.3.0,>=3.2.0->en-core-web-lg==3.2.0) (5.2.1)\n",
            "Requirement already satisfied: certifi>=2017.4.17 in /usr/local/lib/python3.7/dist-packages (from requests<3.0.0,>=2.13.0->spacy<3.3.0,>=3.2.0->en-core-web-lg==3.2.0) (2021.10.8)\n",
            "Requirement already satisfied: chardet<4,>=3.0.2 in /usr/local/lib/python3.7/dist-packages (from requests<3.0.0,>=2.13.0->spacy<3.3.0,>=3.2.0->en-core-web-lg==3.2.0) (3.0.4)\n",
            "Requirement already satisfied: idna<3,>=2.5 in /usr/local/lib/python3.7/dist-packages (from requests<3.0.0,>=2.13.0->spacy<3.3.0,>=3.2.0->en-core-web-lg==3.2.0) (2.10)\n",
            "Requirement already satisfied: urllib3!=1.25.0,!=1.25.1,<1.26,>=1.21.1 in /usr/local/lib/python3.7/dist-packages (from requests<3.0.0,>=2.13.0->spacy<3.3.0,>=3.2.0->en-core-web-lg==3.2.0) (1.24.3)\n",
            "Requirement already satisfied: click<9.0.0,>=7.1.1 in /usr/local/lib/python3.7/dist-packages (from typer<0.5.0,>=0.3.0->spacy<3.3.0,>=3.2.0->en-core-web-lg==3.2.0) (7.1.2)\n",
            "Requirement already satisfied: MarkupSafe>=0.23 in /usr/local/lib/python3.7/dist-packages (from jinja2->spacy<3.3.0,>=3.2.0->en-core-web-lg==3.2.0) (2.0.1)\n",
            "Installing collected packages: en-core-web-lg\n",
            "Successfully installed en-core-web-lg-3.2.0\n",
            "\u001b[38;5;2m✔ Download and installation successful\u001b[0m\n",
            "You can now load the package via spacy.load('en_core_web_lg')\n"
          ]
        }
      ]
    },
    {
      "cell_type": "code",
      "metadata": {
        "colab": {
          "base_uri": "https://localhost:8080/"
        },
        "id": "IYOOclT9-1by",
        "outputId": "0123d813-79f4-414f-9541-59c80868f450"
      },
      "source": [
        "!python -m spacy download en_core_web_sm"
      ],
      "execution_count": 5,
      "outputs": [
        {
          "output_type": "stream",
          "name": "stdout",
          "text": [
            "Collecting en-core-web-sm==3.2.0\n",
            "  Downloading https://github.com/explosion/spacy-models/releases/download/en_core_web_sm-3.2.0/en_core_web_sm-3.2.0-py3-none-any.whl (13.9 MB)\n",
            "\u001b[K     |████████████████████████████████| 13.9 MB 104 kB/s \n",
            "\u001b[?25hRequirement already satisfied: spacy<3.3.0,>=3.2.0 in /usr/local/lib/python3.7/dist-packages (from en-core-web-sm==3.2.0) (3.2.0)\n",
            "Requirement already satisfied: pathy>=0.3.5 in /usr/local/lib/python3.7/dist-packages (from spacy<3.3.0,>=3.2.0->en-core-web-sm==3.2.0) (0.6.1)\n",
            "Requirement already satisfied: cymem<2.1.0,>=2.0.2 in /usr/local/lib/python3.7/dist-packages (from spacy<3.3.0,>=3.2.0->en-core-web-sm==3.2.0) (2.0.6)\n",
            "Requirement already satisfied: catalogue<2.1.0,>=2.0.6 in /usr/local/lib/python3.7/dist-packages (from spacy<3.3.0,>=3.2.0->en-core-web-sm==3.2.0) (2.0.6)\n",
            "Requirement already satisfied: pydantic!=1.8,!=1.8.1,<1.9.0,>=1.7.4 in /usr/local/lib/python3.7/dist-packages (from spacy<3.3.0,>=3.2.0->en-core-web-sm==3.2.0) (1.8.2)\n",
            "Requirement already satisfied: typer<0.5.0,>=0.3.0 in /usr/local/lib/python3.7/dist-packages (from spacy<3.3.0,>=3.2.0->en-core-web-sm==3.2.0) (0.4.0)\n",
            "Requirement already satisfied: langcodes<4.0.0,>=3.2.0 in /usr/local/lib/python3.7/dist-packages (from spacy<3.3.0,>=3.2.0->en-core-web-sm==3.2.0) (3.3.0)\n",
            "Requirement already satisfied: wasabi<1.1.0,>=0.8.1 in /usr/local/lib/python3.7/dist-packages (from spacy<3.3.0,>=3.2.0->en-core-web-sm==3.2.0) (0.8.2)\n",
            "Requirement already satisfied: typing-extensions<4.0.0.0,>=3.7.4 in /usr/local/lib/python3.7/dist-packages (from spacy<3.3.0,>=3.2.0->en-core-web-sm==3.2.0) (3.10.0.2)\n",
            "Requirement already satisfied: murmurhash<1.1.0,>=0.28.0 in /usr/local/lib/python3.7/dist-packages (from spacy<3.3.0,>=3.2.0->en-core-web-sm==3.2.0) (1.0.6)\n",
            "Requirement already satisfied: setuptools in /usr/local/lib/python3.7/dist-packages (from spacy<3.3.0,>=3.2.0->en-core-web-sm==3.2.0) (57.4.0)\n",
            "Requirement already satisfied: blis<0.8.0,>=0.4.0 in /usr/local/lib/python3.7/dist-packages (from spacy<3.3.0,>=3.2.0->en-core-web-sm==3.2.0) (0.4.1)\n",
            "Requirement already satisfied: packaging>=20.0 in /usr/local/lib/python3.7/dist-packages (from spacy<3.3.0,>=3.2.0->en-core-web-sm==3.2.0) (21.2)\n",
            "Requirement already satisfied: preshed<3.1.0,>=3.0.2 in /usr/local/lib/python3.7/dist-packages (from spacy<3.3.0,>=3.2.0->en-core-web-sm==3.2.0) (3.0.6)\n",
            "Requirement already satisfied: spacy-loggers<2.0.0,>=1.0.0 in /usr/local/lib/python3.7/dist-packages (from spacy<3.3.0,>=3.2.0->en-core-web-sm==3.2.0) (1.0.1)\n",
            "Requirement already satisfied: numpy>=1.15.0 in /usr/local/lib/python3.7/dist-packages (from spacy<3.3.0,>=3.2.0->en-core-web-sm==3.2.0) (1.19.5)\n",
            "Requirement already satisfied: jinja2 in /usr/local/lib/python3.7/dist-packages (from spacy<3.3.0,>=3.2.0->en-core-web-sm==3.2.0) (2.11.3)\n",
            "Requirement already satisfied: spacy-legacy<3.1.0,>=3.0.8 in /usr/local/lib/python3.7/dist-packages (from spacy<3.3.0,>=3.2.0->en-core-web-sm==3.2.0) (3.0.8)\n",
            "Requirement already satisfied: thinc<8.1.0,>=8.0.12 in /usr/local/lib/python3.7/dist-packages (from spacy<3.3.0,>=3.2.0->en-core-web-sm==3.2.0) (8.0.13)\n",
            "Requirement already satisfied: srsly<3.0.0,>=2.4.1 in /usr/local/lib/python3.7/dist-packages (from spacy<3.3.0,>=3.2.0->en-core-web-sm==3.2.0) (2.4.2)\n",
            "Requirement already satisfied: requests<3.0.0,>=2.13.0 in /usr/local/lib/python3.7/dist-packages (from spacy<3.3.0,>=3.2.0->en-core-web-sm==3.2.0) (2.23.0)\n",
            "Requirement already satisfied: tqdm<5.0.0,>=4.38.0 in /usr/local/lib/python3.7/dist-packages (from spacy<3.3.0,>=3.2.0->en-core-web-sm==3.2.0) (4.62.3)\n",
            "Requirement already satisfied: zipp>=0.5 in /usr/local/lib/python3.7/dist-packages (from catalogue<2.1.0,>=2.0.6->spacy<3.3.0,>=3.2.0->en-core-web-sm==3.2.0) (3.6.0)\n",
            "Requirement already satisfied: pyparsing<3,>=2.0.2 in /usr/local/lib/python3.7/dist-packages (from packaging>=20.0->spacy<3.3.0,>=3.2.0->en-core-web-sm==3.2.0) (2.4.7)\n",
            "Requirement already satisfied: smart-open<6.0.0,>=5.0.0 in /usr/local/lib/python3.7/dist-packages (from pathy>=0.3.5->spacy<3.3.0,>=3.2.0->en-core-web-sm==3.2.0) (5.2.1)\n",
            "Requirement already satisfied: chardet<4,>=3.0.2 in /usr/local/lib/python3.7/dist-packages (from requests<3.0.0,>=2.13.0->spacy<3.3.0,>=3.2.0->en-core-web-sm==3.2.0) (3.0.4)\n",
            "Requirement already satisfied: idna<3,>=2.5 in /usr/local/lib/python3.7/dist-packages (from requests<3.0.0,>=2.13.0->spacy<3.3.0,>=3.2.0->en-core-web-sm==3.2.0) (2.10)\n",
            "Requirement already satisfied: certifi>=2017.4.17 in /usr/local/lib/python3.7/dist-packages (from requests<3.0.0,>=2.13.0->spacy<3.3.0,>=3.2.0->en-core-web-sm==3.2.0) (2021.10.8)\n",
            "Requirement already satisfied: urllib3!=1.25.0,!=1.25.1,<1.26,>=1.21.1 in /usr/local/lib/python3.7/dist-packages (from requests<3.0.0,>=2.13.0->spacy<3.3.0,>=3.2.0->en-core-web-sm==3.2.0) (1.24.3)\n",
            "Requirement already satisfied: click<9.0.0,>=7.1.1 in /usr/local/lib/python3.7/dist-packages (from typer<0.5.0,>=0.3.0->spacy<3.3.0,>=3.2.0->en-core-web-sm==3.2.0) (7.1.2)\n",
            "Requirement already satisfied: MarkupSafe>=0.23 in /usr/local/lib/python3.7/dist-packages (from jinja2->spacy<3.3.0,>=3.2.0->en-core-web-sm==3.2.0) (2.0.1)\n",
            "Installing collected packages: en-core-web-sm\n",
            "  Attempting uninstall: en-core-web-sm\n",
            "    Found existing installation: en-core-web-sm 2.2.5\n",
            "    Uninstalling en-core-web-sm-2.2.5:\n",
            "      Successfully uninstalled en-core-web-sm-2.2.5\n",
            "Successfully installed en-core-web-sm-3.2.0\n",
            "\u001b[38;5;2m✔ Download and installation successful\u001b[0m\n",
            "You can now load the package via spacy.load('en_core_web_sm')\n"
          ]
        }
      ]
    },
    {
      "cell_type": "code",
      "metadata": {
        "id": "xmYi2deq9Am4"
      },
      "source": [
        "# import re\n",
        "# import string\n",
        "import pandas as pd\n",
        "import numpy as np\n",
        "from datetime import datetime\n",
        "\n",
        "# import spacy\n",
        "# from spacy.lang.en.stop_words import STOP_WORDS\n",
        "# from spacy.lang.en import English\n",
        "\n",
        "# from sklearn.feature_extraction.text import CountVectorizer\n",
        "# from sklearn.feature_extraction.text import TfidfTransformer\n",
        "\n",
        "# from sklearn.model_selection import train_test_split\n",
        "# from sklearn.linear_model import LogisticRegression\n",
        "# from sklearn import metrics\n",
        "\n",
        "import spacy\n",
        "import spacy_transformers\n",
        "from spacy.tokens import DocBin"
      ],
      "execution_count": 6,
      "outputs": []
    },
    {
      "cell_type": "code",
      "metadata": {
        "id": "J7EShJVdn-26",
        "colab": {
          "base_uri": "https://localhost:8080/"
        },
        "outputId": "213f9449-621c-4366-d9ce-20ea7e86067c"
      },
      "source": [
        "df = pd.read_excel('/content/amazon_alexa.xlsx').head(500)\n",
        "df=df[['verified_reviews' , 'feedback']]\n",
        "print(type(df))\n",
        "train = df.sample(frac = 0.8, random_state = 25)\n",
        "test = df.drop(train.index)\n",
        "print(train.shape, test.shape)"
      ],
      "execution_count": 9,
      "outputs": [
        {
          "output_type": "stream",
          "name": "stdout",
          "text": [
            "<class 'pandas.core.frame.DataFrame'>\n",
            "(400, 2) (100, 2)\n"
          ]
        }
      ]
    },
    {
      "cell_type": "code",
      "metadata": {
        "id": "yMSQAA91seIo",
        "colab": {
          "base_uri": "https://localhost:8080/"
        },
        "outputId": "5542025c-7f5f-4e7b-f279-227608e764a7"
      },
      "source": [
        "records = train.to_records(index=False)\n",
        "train = list(records)\n",
        "print(train[0])\n",
        "\n",
        "records_ = test.to_records(index=False)\n",
        "test = list(records_)\n",
        "print(test[0])"
      ],
      "execution_count": 10,
      "outputs": [
        {
          "output_type": "stream",
          "name": "stdout",
          "text": [
            "('everything perfect', 1)\n",
            "('Sometimes while playing a game, you can answer a question correctly but Alexa says you got it wrong and answers the same as you.  I like being able to turn lights on and off while away from home.', 1)\n"
          ]
        }
      ]
    },
    {
      "cell_type": "code",
      "metadata": {
        "id": "bP94Wnh5t7DT"
      },
      "source": [
        "def document(data):\n",
        "  text = []\n",
        "  for doc, label in nlp.pipe(data, as_tuples = True):\n",
        "    if (label==1):\n",
        "      print(\"yes\")\n",
        "      doc.cats['positive'] = 1\n",
        "      doc.cats['negative'] = 0\n",
        "      doc.cats['neutral']  = 0\n",
        "    elif(label==0):\n",
        "      print(\"yess\")\n",
        "      doc.cats['positive'] = 0\n",
        "      doc.cats['negative'] = 1\n",
        "      doc.cats['neutral']  = 0\n",
        "\n",
        "    text.append(doc)\n",
        "\n",
        "  return(text)"
      ],
      "execution_count": 11,
      "outputs": []
    },
    {
      "cell_type": "code",
      "metadata": {
        "colab": {
          "base_uri": "https://localhost:8080/"
        },
        "id": "feUcaVtDAg47",
        "outputId": "9f5847d4-c76c-4794-b67f-e604897e41db"
      },
      "source": [
        "nlp=spacy.load(\"en_core_web_lg\")\n",
        "nlp.pipe_names"
      ],
      "execution_count": 13,
      "outputs": [
        {
          "output_type": "execute_result",
          "data": {
            "text/plain": [
              "['tok2vec', 'tagger', 'parser', 'attribute_ruler', 'lemmatizer', 'ner']"
            ]
          },
          "metadata": {},
          "execution_count": 13
        }
      ]
    },
    {
      "cell_type": "code",
      "metadata": {
        "colab": {
          "base_uri": "https://localhost:8080/"
        },
        "id": "a1gf9xAT58Zf",
        "outputId": "7bcbed39-d9ce-421e-b6eb-4b0127bb5dd9"
      },
      "source": [
        "print(train[0:3])\n",
        "print(train[0][1])\n",
        "a=document(train[0:2])\n",
        "a[0].cats"
      ],
      "execution_count": 14,
      "outputs": [
        {
          "output_type": "stream",
          "name": "stdout",
          "text": [
            "[('everything perfect', 1), ('Six words, &#34;Alexa, tell me a poop joke.&#34;', 1), ('This thing is way cool!  You should get one.  If you want to be cool, that is.', 1)]\n",
            "1\n",
            "yes\n",
            "yes\n"
          ]
        },
        {
          "output_type": "execute_result",
          "data": {
            "text/plain": [
              "{'negative': 0, 'neutral': 0, 'positive': 1}"
            ]
          },
          "metadata": {},
          "execution_count": 14
        }
      ]
    },
    {
      "cell_type": "code",
      "metadata": {
        "colab": {
          "base_uri": "https://localhost:8080/"
        },
        "id": "LPZ5RiULtJDj",
        "outputId": "e6a62fe0-6022-4dbd-a3f8-1554ed5eb0e8"
      },
      "source": [
        "%%time\n",
        "train_docs = document(train)\n",
        "print(train_docs[0].cats)"
      ],
      "execution_count": 15,
      "outputs": [
        {
          "output_type": "stream",
          "name": "stdout",
          "text": [
            "yes\n",
            "yes\n",
            "yes\n",
            "yes\n",
            "yes\n",
            "yes\n",
            "yes\n",
            "yess\n",
            "yes\n",
            "yes\n",
            "yess\n",
            "yes\n",
            "yes\n",
            "yes\n",
            "yes\n",
            "yes\n",
            "yes\n",
            "yes\n",
            "yess\n",
            "yess\n",
            "yes\n",
            "yes\n",
            "yes\n",
            "yes\n",
            "yes\n",
            "yes\n",
            "yes\n",
            "yes\n",
            "yes\n",
            "yes\n",
            "yes\n",
            "yes\n",
            "yes\n",
            "yes\n",
            "yes\n",
            "yes\n",
            "yes\n",
            "yess\n",
            "yes\n",
            "yes\n",
            "yess\n",
            "yes\n",
            "yes\n",
            "yes\n",
            "yes\n",
            "yes\n",
            "yes\n",
            "yes\n",
            "yes\n",
            "yes\n",
            "yes\n",
            "yes\n",
            "yes\n",
            "yes\n",
            "yes\n",
            "yes\n",
            "yes\n",
            "yes\n",
            "yes\n",
            "yes\n",
            "yess\n",
            "yes\n",
            "yes\n",
            "yes\n",
            "yes\n",
            "yes\n",
            "yes\n",
            "yes\n",
            "yes\n",
            "yes\n",
            "yes\n",
            "yes\n",
            "yes\n",
            "yes\n",
            "yes\n",
            "yes\n",
            "yes\n",
            "yess\n",
            "yes\n",
            "yes\n",
            "yes\n",
            "yes\n",
            "yes\n",
            "yes\n",
            "yes\n",
            "yes\n",
            "yes\n",
            "yes\n",
            "yes\n",
            "yes\n",
            "yes\n",
            "yes\n",
            "yes\n",
            "yess\n",
            "yes\n",
            "yes\n",
            "yes\n",
            "yes\n",
            "yess\n",
            "yes\n",
            "yes\n",
            "yes\n",
            "yess\n",
            "yes\n",
            "yes\n",
            "yes\n",
            "yes\n",
            "yess\n",
            "yes\n",
            "yes\n",
            "yes\n",
            "yes\n",
            "yes\n",
            "yes\n",
            "yes\n",
            "yes\n",
            "yes\n",
            "yes\n",
            "yes\n",
            "yes\n",
            "yes\n",
            "yes\n",
            "yes\n",
            "yes\n",
            "yes\n",
            "yes\n",
            "yes\n",
            "yes\n",
            "yes\n",
            "yes\n",
            "yes\n",
            "yes\n",
            "yes\n",
            "yes\n",
            "yes\n",
            "yes\n",
            "yes\n",
            "yes\n",
            "yes\n",
            "yes\n",
            "yess\n",
            "yes\n",
            "yes\n",
            "yes\n",
            "yes\n",
            "yes\n",
            "yes\n",
            "yes\n",
            "yes\n",
            "yes\n",
            "yes\n",
            "yes\n",
            "yes\n",
            "yes\n",
            "yes\n",
            "yess\n",
            "yes\n",
            "yes\n",
            "yes\n",
            "yes\n",
            "yes\n",
            "yes\n",
            "yes\n",
            "yes\n",
            "yes\n",
            "yes\n",
            "yess\n",
            "yes\n",
            "yes\n",
            "yes\n",
            "yes\n",
            "yes\n",
            "yes\n",
            "yes\n",
            "yes\n",
            "yes\n",
            "yes\n",
            "yes\n",
            "yes\n",
            "yes\n",
            "yes\n",
            "yess\n",
            "yes\n",
            "yes\n",
            "yes\n",
            "yes\n",
            "yes\n",
            "yes\n",
            "yess\n",
            "yes\n",
            "yes\n",
            "yes\n",
            "yes\n",
            "yes\n",
            "yess\n",
            "yess\n",
            "yes\n",
            "yes\n",
            "yes\n",
            "yes\n",
            "yes\n",
            "yes\n",
            "yes\n",
            "yes\n",
            "yes\n",
            "yes\n",
            "yes\n",
            "yes\n",
            "yes\n",
            "yes\n",
            "yes\n",
            "yes\n",
            "yes\n",
            "yes\n",
            "yes\n",
            "yes\n",
            "yes\n",
            "yes\n",
            "yes\n",
            "yes\n",
            "yes\n",
            "yes\n",
            "yess\n",
            "yes\n",
            "yes\n",
            "yes\n",
            "yes\n",
            "yes\n",
            "yes\n",
            "yes\n",
            "yes\n",
            "yes\n",
            "yes\n",
            "yes\n",
            "yes\n",
            "yes\n",
            "yess\n",
            "yes\n",
            "yes\n",
            "yes\n",
            "yess\n",
            "yes\n",
            "yes\n",
            "yes\n",
            "yes\n",
            "yes\n",
            "yes\n",
            "yes\n",
            "yes\n",
            "yes\n",
            "yes\n",
            "yes\n",
            "yes\n",
            "yes\n",
            "yes\n",
            "yes\n",
            "yes\n",
            "yes\n",
            "yes\n",
            "yes\n",
            "yes\n",
            "yes\n",
            "yes\n",
            "yes\n",
            "yes\n",
            "yes\n",
            "yes\n",
            "yes\n",
            "yes\n",
            "yes\n",
            "yes\n",
            "yes\n",
            "yes\n",
            "yes\n",
            "yes\n",
            "yes\n",
            "yes\n",
            "yes\n",
            "yes\n",
            "yes\n",
            "yes\n",
            "yes\n",
            "yes\n",
            "yess\n",
            "yess\n",
            "yes\n",
            "yes\n",
            "yes\n",
            "yes\n",
            "yes\n",
            "yes\n",
            "yes\n",
            "yes\n",
            "yes\n",
            "yes\n",
            "yes\n",
            "yes\n",
            "yes\n",
            "yes\n",
            "yes\n",
            "yes\n",
            "yes\n",
            "yes\n",
            "yes\n",
            "yes\n",
            "yes\n",
            "yes\n",
            "yes\n",
            "yes\n",
            "yes\n",
            "yes\n",
            "yes\n",
            "yes\n",
            "yes\n",
            "yes\n",
            "yes\n",
            "yes\n",
            "yes\n",
            "yes\n",
            "yes\n",
            "yes\n",
            "yes\n",
            "yes\n",
            "yes\n",
            "yes\n",
            "yes\n",
            "yes\n",
            "yes\n",
            "yes\n",
            "yes\n",
            "yess\n",
            "yes\n",
            "yes\n",
            "yess\n",
            "yes\n",
            "yes\n",
            "yes\n",
            "yes\n",
            "yes\n",
            "yes\n",
            "yes\n",
            "yes\n",
            "yes\n",
            "yes\n",
            "yes\n",
            "yes\n",
            "yes\n",
            "yes\n",
            "yes\n",
            "yess\n",
            "yes\n",
            "yes\n",
            "yes\n",
            "yes\n",
            "yes\n",
            "yes\n",
            "yes\n",
            "yes\n",
            "yes\n",
            "yes\n",
            "yes\n",
            "yes\n",
            "yes\n",
            "yes\n",
            "yes\n",
            "yes\n",
            "yes\n",
            "yes\n",
            "yes\n",
            "yes\n",
            "yes\n",
            "yes\n",
            "yes\n",
            "yes\n",
            "yes\n",
            "yes\n",
            "yes\n",
            "yes\n",
            "yes\n",
            "yes\n",
            "yes\n",
            "yes\n",
            "yes\n",
            "yes\n",
            "yes\n",
            "yes\n",
            "yes\n",
            "yes\n",
            "yes\n",
            "yes\n",
            "yes\n",
            "yes\n",
            "yes\n",
            "yes\n",
            "yes\n",
            "yes\n",
            "yes\n",
            "yes\n",
            "yes\n",
            "yes\n",
            "{'positive': 1, 'negative': 0, 'neutral': 0}\n",
            "CPU times: user 1.67 s, sys: 102 ms, total: 1.77 s\n",
            "Wall time: 1.74 s\n"
          ]
        }
      ]
    },
    {
      "cell_type": "code",
      "metadata": {
        "colab": {
          "base_uri": "https://localhost:8080/"
        },
        "id": "6XEV54-_uD3M",
        "outputId": "7481593d-da8a-4e71-e7fe-723e4c1715bb"
      },
      "source": [
        "%%time\n",
        "\n",
        "#Creating binary document using DocBin function in spaCy\n",
        "doc_bin = DocBin(docs = train_docs)\n",
        "\n",
        "#Saving the binary document as train.spacy\n",
        "doc_bin.to_disk(\"/content/train.spacy\")"
      ],
      "execution_count": 16,
      "outputs": [
        {
          "output_type": "stream",
          "name": "stdout",
          "text": [
            "CPU times: user 168 ms, sys: 11.2 ms, total: 179 ms\n",
            "Wall time: 171 ms\n"
          ]
        }
      ]
    },
    {
      "cell_type": "code",
      "metadata": {
        "colab": {
          "base_uri": "https://localhost:8080/"
        },
        "id": "HD8kTGXothJq",
        "outputId": "b6268c7b-8472-4ddb-a9b2-56a24e3df43b"
      },
      "source": [
        "%%time\n",
        "\n",
        "#passing the test dataset into function 'document'\n",
        "test_docs = document(test)\n",
        "\n",
        "#Saving the binary document as dev.spacy\n",
        "doc_bin = DocBin(docs = test_docs)\n",
        "doc_bin.to_disk(\"/content/dev.spacy\")"
      ],
      "execution_count": 17,
      "outputs": [
        {
          "output_type": "stream",
          "name": "stdout",
          "text": [
            "yes\n",
            "yes\n",
            "yes\n",
            "yes\n",
            "yes\n",
            "yess\n",
            "yes\n",
            "yes\n",
            "yes\n",
            "yes\n",
            "yes\n",
            "yes\n",
            "yes\n",
            "yes\n",
            "yes\n",
            "yes\n",
            "yes\n",
            "yes\n",
            "yes\n",
            "yes\n",
            "yes\n",
            "yes\n",
            "yes\n",
            "yes\n",
            "yes\n",
            "yes\n",
            "yes\n",
            "yes\n",
            "yes\n",
            "yes\n",
            "yes\n",
            "yes\n",
            "yes\n",
            "yes\n",
            "yes\n",
            "yes\n",
            "yes\n",
            "yes\n",
            "yes\n",
            "yess\n",
            "yes\n",
            "yes\n",
            "yes\n",
            "yes\n",
            "yes\n",
            "yes\n",
            "yes\n",
            "yes\n",
            "yes\n",
            "yes\n",
            "yes\n",
            "yes\n",
            "yes\n",
            "yes\n",
            "yes\n",
            "yes\n",
            "yes\n",
            "yes\n",
            "yes\n",
            "yes\n",
            "yes\n",
            "yes\n",
            "yes\n",
            "yes\n",
            "yes\n",
            "yes\n",
            "yes\n",
            "yes\n",
            "yes\n",
            "yes\n",
            "yes\n",
            "yes\n",
            "yes\n",
            "yes\n",
            "yes\n",
            "yes\n",
            "yess\n",
            "yess\n",
            "yes\n",
            "yess\n",
            "yes\n",
            "yes\n",
            "yes\n",
            "yes\n",
            "yes\n",
            "yes\n",
            "yes\n",
            "yess\n",
            "yes\n",
            "yes\n",
            "yes\n",
            "yes\n",
            "yes\n",
            "yes\n",
            "yes\n",
            "yes\n",
            "yes\n",
            "yes\n",
            "yes\n",
            "yes\n",
            "CPU times: user 408 ms, sys: 11.1 ms, total: 419 ms\n",
            "Wall time: 409 ms\n"
          ]
        }
      ]
    },
    {
      "cell_type": "code",
      "metadata": {
        "id": "0zZaTYmrUuAK"
      },
      "source": [
        "# nlp=spacy.load(\"en_core_web_lg\")\n",
        "# nlp.pipe_names"
      ],
      "execution_count": 18,
      "outputs": []
    },
    {
      "cell_type": "code",
      "metadata": {
        "colab": {
          "base_uri": "https://localhost:8080/"
        },
        "id": "h3GPWFZbuvWE",
        "outputId": "7a3d7476-ff32-4a8e-e760-6eeb311d14ee"
      },
      "source": [
        "# Creation of base_config.cfg go to\n",
        "# https://spacy.io/usage/training#quickstart\n",
        "# chnage the settings in the online GUI then download the file and copy paste it's location into the following cmd\n",
        "!python -m spacy init fill-config /content/base_config.cfg ./config.cfg"
      ],
      "execution_count": 29,
      "outputs": [
        {
          "output_type": "stream",
          "name": "stdout",
          "text": [
            "\u001b[38;5;2m✔ Auto-filled config with all values\u001b[0m\n",
            "\u001b[38;5;2m✔ Saved config\u001b[0m\n",
            "config.cfg\n",
            "You can now add your data and train your pipeline:\n",
            "python -m spacy train config.cfg --paths.train ./train.spacy --paths.dev ./dev.spacy\n"
          ]
        }
      ]
    },
    {
      "cell_type": "code",
      "metadata": {
        "colab": {
          "base_uri": "https://localhost:8080/"
        },
        "id": "Ej_kYaw6DFhv",
        "outputId": "49161f18-9a27-447f-9da1-3ba6cb8d5779"
      },
      "source": [
        "!python -m spacy train config.cfg --output training/ --paths.train train.spacy --paths.dev dev.spacy --gpu-id -1"
      ],
      "execution_count": 30,
      "outputs": [
        {
          "output_type": "stream",
          "name": "stdout",
          "text": [
            "\u001b[38;5;2m✔ Created output directory: training\u001b[0m\n",
            "\u001b[38;5;4mℹ Saving to output directory: training\u001b[0m\n",
            "\u001b[38;5;4mℹ Using CPU\u001b[0m\n",
            "\u001b[1m\n",
            "=========================== Initializing pipeline ===========================\u001b[0m\n",
            "[2021-11-18 08:05:08,107] [INFO] Set up nlp object from config\n",
            "[2021-11-18 08:05:08,121] [INFO] Pipeline: ['tok2vec', 'tagger', 'morphologizer', 'parser', 'ner', 'textcat']\n",
            "[2021-11-18 08:05:08,127] [INFO] Created vocabulary\n",
            "[2021-11-18 08:05:08,129] [INFO] Finished initializing nlp object\n",
            "[2021-11-18 08:05:11,230] [INFO] Initialized pipeline components: ['tok2vec', 'tagger', 'morphologizer', 'parser', 'ner', 'textcat']\n",
            "\u001b[38;5;2m✔ Initialized pipeline\u001b[0m\n",
            "\u001b[1m\n",
            "============================= Training pipeline =============================\u001b[0m\n",
            "\u001b[38;5;4mℹ Pipeline: ['tok2vec', 'tagger', 'morphologizer', 'parser', 'ner',\n",
            "'textcat']\u001b[0m\n",
            "\u001b[38;5;4mℹ Initial learn rate: 0.001\u001b[0m\n",
            "E    #       LOSS TOK2VEC  LOSS TAGGER  LOSS MORPH...  LOSS PARSER  LOSS NER  LOSS TEXTCAT  TAG_ACC  POS_ACC  MORPH_ACC  DEP_UAS  DEP_LAS  SENTS_F  ENTS_F  ENTS_P  ENTS_R  CATS_SCORE  SCORE \n",
            "---  ------  ------------  -----------  -------------  -----------  --------  ------------  -------  -------  ---------  -------  -------  -------  ------  ------  ------  ----------  ------\n",
            "  0       0          0.00        79.24          80.13       245.27     42.74          0.17    29.43    32.65      31.02    21.54     7.31     2.19    0.00    0.00    0.00        0.00    0.15\n",
            "  1     200       2096.45      8326.05        9355.44     16623.74   1615.96         11.46    83.24    85.82      83.91    71.68    62.81    83.58   49.10   65.08   39.42       30.17    0.63\n",
            "  3     400       6252.40      2832.67        3501.33     10892.60    826.59         12.29    87.69    90.04      89.52    77.38    70.98    71.12   51.93   61.04   45.19       31.54    0.67\n",
            "  6     600       6806.71      1318.96        1732.03      9050.30    849.95          3.02    88.29    90.00      89.72    80.94    73.92    90.95   55.95   73.44   45.19       31.91    0.69\n",
            "  9     800       6040.34       822.49        1111.76      7923.30    925.27          0.34    88.25    90.55      90.12    80.63    74.90    88.75   61.80   74.32   52.88       31.94    0.70\n",
            " 13    1000       5226.03       627.23         803.65      6908.28    779.03          0.20    88.61    90.04      89.64    80.95    74.20    92.81   61.11   72.37   52.88       32.30    0.70\n",
            " 18    1200       5361.16       495.00         644.50      6515.70    596.37          0.10    89.12    90.95      90.24    81.09    74.61    92.84   61.62   70.37   54.81       32.30    0.70\n",
            " 25    1400       5243.81       452.10         538.18      6057.35    450.78          0.04    88.84    90.79      89.96    82.01    75.83    91.14   65.17   78.38   55.77       32.30    0.71\n",
            " 33    1600       5574.17       347.09         403.38      6348.04    385.62          0.02    88.45    90.24      89.52    81.24    75.16    95.20   64.80   77.33   55.77       32.30    0.71\n",
            " 42    1800       4814.82       334.53         395.64      6434.42    295.48          0.01    88.61    90.20      89.60    80.41    74.10    91.81   58.70   67.50   51.92       32.30    0.69\n",
            " 54    2000       5397.22       248.40         299.80      7407.74    272.35          0.01    89.12    90.99      90.36    81.63    75.09    93.71   62.30   72.15   54.81       32.30    0.71\n",
            " 68    2200       5809.48       234.60         261.33      8435.91    284.90          0.00    88.73    90.71      90.12    81.62    75.31    92.64   62.57   74.67   53.85       32.30    0.70\n",
            " 86    2400       5045.63       174.66         211.70      9352.72    246.35          0.00    88.80    90.52      89.96    81.53    74.68    92.81   63.39   73.42   55.77       32.30    0.71\n",
            "104    2600       5479.30       183.39         210.29      9820.07    175.59          0.00    88.88    90.55      89.68    80.96    75.18    93.45   61.11   72.37   52.88       32.30    0.70\n",
            "122    2800       4870.24       158.74         168.46      9415.11    185.01          0.00    88.88    90.55      89.88    81.64    75.23    95.38   59.77   74.29   50.00       32.30    0.70\n",
            "140    3000       4968.65       141.07         146.01      9429.47    162.98          0.00    89.12    90.67      90.12    81.88    75.35    95.40   62.22   73.68   53.85       32.30    0.71\n",
            "\u001b[38;5;2m✔ Saved pipeline to output directory\u001b[0m\n",
            "training/model-last\n"
          ]
        }
      ]
    },
    {
      "cell_type": "code",
      "metadata": {
        "id": "33F5W-lxZhlQ"
      },
      "source": [
        "nlp= spacy.load(\"/content/training/model-best\")"
      ],
      "execution_count": 31,
      "outputs": []
    },
    {
      "cell_type": "code",
      "metadata": {
        "colab": {
          "base_uri": "https://localhost:8080/"
        },
        "id": "VV2FG2ZnaLGn",
        "outputId": "be01b710-0e3d-4cb0-da01-534fdbd159b7"
      },
      "source": [
        "print(train[0])"
      ],
      "execution_count": 32,
      "outputs": [
        {
          "output_type": "stream",
          "name": "stdout",
          "text": [
            "('everything perfect', 1)\n"
          ]
        }
      ]
    },
    {
      "cell_type": "code",
      "metadata": {
        "colab": {
          "base_uri": "https://localhost:8080/"
        },
        "id": "zoC2UbuWZpcG",
        "outputId": "266d68b5-f4dd-4e83-dbc9-d2f5e975cd64"
      },
      "source": [
        "text=\"i hate alexa\"\n",
        "demo = nlp(text)\n",
        "print(demo.cats)"
      ],
      "execution_count": 35,
      "outputs": [
        {
          "output_type": "stream",
          "name": "stdout",
          "text": [
            "{'positive': 0.5601125955581665, 'negative': 0.25211408734321594, 'neutral': 0.18777334690093994}\n"
          ]
        }
      ]
    },
    {
      "cell_type": "code",
      "metadata": {
        "id": "rwNsmtR1KmoF"
      },
      "source": [
        ""
      ],
      "execution_count": null,
      "outputs": []
    }
  ]
}