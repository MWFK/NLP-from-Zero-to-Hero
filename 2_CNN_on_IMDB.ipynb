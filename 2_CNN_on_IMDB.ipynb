{
  "nbformat": 4,
  "nbformat_minor": 0,
  "metadata": {
    "accelerator": "GPU",
    "colab": {
      "name": "2- CNN on IMDB.ipynb",
      "provenance": [],
      "authorship_tag": "ABX9TyMTQ9YiA+qmPkW/6aYMt4J2",
      "include_colab_link": true
    },
    "kernelspec": {
      "display_name": "Python 3",
      "name": "python3"
    }
  },
  "cells": [
    {
      "cell_type": "markdown",
      "metadata": {
        "id": "view-in-github",
        "colab_type": "text"
      },
      "source": [
        "<a href=\"https://colab.research.google.com/github/MWFK/NLP-from-Zero-to-Hero/blob/main/2_CNN_on_IMDB.ipynb\" target=\"_parent\"><img src=\"https://colab.research.google.com/assets/colab-badge.svg\" alt=\"Open In Colab\"/></a>"
      ]
    },
    {
      "cell_type": "markdown",
      "metadata": {
        "id": "TANhsJK_6WqY"
      },
      "source": [
        "Licensed under the Apache License, Version 2.0 (the \"License\");"
      ]
    },
    {
      "cell_type": "code",
      "metadata": {
        "colab": {
          "base_uri": "https://localhost:8080/"
        },
        "id": "0AFVQj5O6K61",
        "outputId": "ffee18ca-0323-4b89-f5fb-4841137bd8f5"
      },
      "source": [
        "from __future__ import absolute_import, division, print_function, unicode_literals\r\n",
        "\r\n",
        "import tensorflow_datasets as tfds\r\n",
        "import tensorflow as tf\r\n",
        "print(tf.__version__)"
      ],
      "execution_count": 7,
      "outputs": [
        {
          "output_type": "stream",
          "text": [
            "2.4.0\n"
          ],
          "name": "stdout"
        }
      ]
    },
    {
      "cell_type": "code",
      "metadata": {
        "colab": {
          "base_uri": "https://localhost:8080/"
        },
        "id": "oYfBauvo7Oc7",
        "outputId": "71c31c3e-01d7-4da5-a4b1-2b57b2f7c660"
      },
      "source": [
        "# Get the data\r\n",
        "dataset, info = tfds.load('imdb_reviews/subwords8k', with_info=True, as_supervised=True)\r\n",
        "train_dataset, test_dataset = dataset['train'], dataset['test']"
      ],
      "execution_count": 8,
      "outputs": [
        {
          "output_type": "stream",
          "text": [
            "WARNING:absl:TFDS datasets with text encoding are deprecated and will be removed in a future version. Instead, you should use the plain text version and tokenize the text using `tensorflow_text` (See: https://www.tensorflow.org/tutorials/tensorflow_text/intro#tfdata_example)\n"
          ],
          "name": "stderr"
        }
      ]
    },
    {
      "cell_type": "code",
      "metadata": {
        "id": "kjKfdTAnB-17"
      },
      "source": [
        "tokenizer = info.features['text'].encoder"
      ],
      "execution_count": 9,
      "outputs": []
    },
    {
      "cell_type": "code",
      "metadata": {
        "id": "VZVYFW6yCEQh"
      },
      "source": [
        "BUFFER_SIZE = 10000\r\n",
        "BATCH_SIZE = 64\r\n",
        "\r\n",
        "train_dataset = train_dataset.shuffle(BUFFER_SIZE)\r\n",
        "train_dataset = train_dataset.padded_batch(BATCH_SIZE, tf.compat.v1.data.get_output_shapes(train_dataset)) # train_dataset.output_shapes does not work\r\n",
        "test_dataset = test_dataset.padded_batch(BATCH_SIZE, tf.compat.v1.data.get_output_shapes(test_dataset))    # it has been depreciated in the latest version of TensorFlow"
      ],
      "execution_count": 10,
      "outputs": []
    },
    {
      "cell_type": "code",
      "metadata": {
        "id": "re3mljkFCUca",
        "colab": {
          "base_uri": "https://localhost:8080/"
        },
        "outputId": "ad0d2559-834d-4189-c2f2-00591551a34f"
      },
      "source": [
        "model = tf.keras.Sequential([\r\n",
        "    tf.keras.layers.Embedding(tokenizer.vocab_size, 64),\r\n",
        "    tf.keras.layers.Conv1D(128, 5, activation='relu'),\r\n",
        "    tf.keras.layers.GlobalAveragePooling1D(),\r\n",
        "    tf.keras.layers.Dense(64, activation='relu'),\r\n",
        "    tf.keras.layers.Dense(1, activation='sigmoid')\r\n",
        "])\r\n",
        "model.summary()"
      ],
      "execution_count": 11,
      "outputs": [
        {
          "output_type": "stream",
          "text": [
            "Model: \"sequential_1\"\n",
            "_________________________________________________________________\n",
            "Layer (type)                 Output Shape              Param #   \n",
            "=================================================================\n",
            "embedding_1 (Embedding)      (None, None, 64)          523840    \n",
            "_________________________________________________________________\n",
            "conv1d_1 (Conv1D)            (None, None, 128)         41088     \n",
            "_________________________________________________________________\n",
            "global_average_pooling1d_1 ( (None, 128)               0         \n",
            "_________________________________________________________________\n",
            "dense_2 (Dense)              (None, 64)                8256      \n",
            "_________________________________________________________________\n",
            "dense_3 (Dense)              (None, 1)                 65        \n",
            "=================================================================\n",
            "Total params: 573,249\n",
            "Trainable params: 573,249\n",
            "Non-trainable params: 0\n",
            "_________________________________________________________________\n"
          ],
          "name": "stdout"
        }
      ]
    },
    {
      "cell_type": "code",
      "metadata": {
        "colab": {
          "base_uri": "https://localhost:8080/"
        },
        "id": "auvOyXPXGHH8",
        "outputId": "4216ddf1-76d0-4f8b-ce44-31867d21209b"
      },
      "source": [
        "model.compile(loss='binary_crossentropy', optimizer='adam', metrics=['accuracy'])\r\n",
        "NUM_EPOCHS = 10\r\n",
        "history = model.fit(train_dataset, epochs=NUM_EPOCHS, validation_data=test_dataset)"
      ],
      "execution_count": 12,
      "outputs": [
        {
          "output_type": "stream",
          "text": [
            "Epoch 1/10\n",
            "391/391 [==============================] - 15s 36ms/step - loss: 0.5802 - accuracy: 0.6640 - val_loss: 0.3136 - val_accuracy: 0.8786\n",
            "Epoch 2/10\n",
            "391/391 [==============================] - 14s 34ms/step - loss: 0.2394 - accuracy: 0.9101 - val_loss: 0.3098 - val_accuracy: 0.8790\n",
            "Epoch 3/10\n",
            "391/391 [==============================] - 14s 35ms/step - loss: 0.1734 - accuracy: 0.9373 - val_loss: 0.3405 - val_accuracy: 0.8749\n",
            "Epoch 4/10\n",
            "391/391 [==============================] - 14s 34ms/step - loss: 0.1318 - accuracy: 0.9532 - val_loss: 0.3746 - val_accuracy: 0.8711\n",
            "Epoch 5/10\n",
            "391/391 [==============================] - 14s 34ms/step - loss: 0.1065 - accuracy: 0.9653 - val_loss: 0.4145 - val_accuracy: 0.8657\n",
            "Epoch 6/10\n",
            "391/391 [==============================] - 14s 35ms/step - loss: 0.0847 - accuracy: 0.9737 - val_loss: 0.5243 - val_accuracy: 0.8589\n",
            "Epoch 7/10\n",
            "391/391 [==============================] - 14s 35ms/step - loss: 0.0653 - accuracy: 0.9813 - val_loss: 0.5769 - val_accuracy: 0.8549\n",
            "Epoch 8/10\n",
            "391/391 [==============================] - 14s 34ms/step - loss: 0.0530 - accuracy: 0.9854 - val_loss: 0.6977 - val_accuracy: 0.8570\n",
            "Epoch 9/10\n",
            "391/391 [==============================] - 14s 34ms/step - loss: 0.0415 - accuracy: 0.9875 - val_loss: 0.7653 - val_accuracy: 0.8508\n",
            "Epoch 10/10\n",
            "391/391 [==============================] - 14s 34ms/step - loss: 0.0392 - accuracy: 0.9898 - val_loss: 0.8381 - val_accuracy: 0.8492\n"
          ],
          "name": "stdout"
        }
      ]
    },
    {
      "cell_type": "code",
      "metadata": {
        "id": "IkZej3p4GQGJ"
      },
      "source": [
        "import matplotlib.pyplot as plt\r\n",
        "\r\n",
        "\r\n",
        "def plot_graphs(history, string):\r\n",
        "  plt.plot(history.history[string])\r\n",
        "  plt.plot(history.history['val_'+string])\r\n",
        "  plt.xlabel(\"Epochs\")\r\n",
        "  plt.ylabel(string)\r\n",
        "  plt.legend([string, 'val_'+string])\r\n",
        "  plt.show()"
      ],
      "execution_count": 13,
      "outputs": []
    },
    {
      "cell_type": "code",
      "metadata": {
        "colab": {
          "base_uri": "https://localhost:8080/",
          "height": 279
        },
        "id": "eDOSvleDUUbA",
        "outputId": "0ef8e4b0-e42a-403c-f37c-7beeb6c1cbdd"
      },
      "source": [
        "plot_graphs(history, 'accuracy')"
      ],
      "execution_count": 14,
      "outputs": [
        {
          "output_type": "display_data",
          "data": {
            "image/png": "[encoded data removed]",
            "text/plain": [
              "<Figure size 432x288 with 1 Axes>"
            ]
          },
          "metadata": {
            "tags": [],
            "needs_background": "light"
          }
        }
      ]
    },
    {
      "cell_type": "code",
      "metadata": {
        "colab": {
          "base_uri": "https://localhost:8080/",
          "height": 279
        },
        "id": "50A17grnUWJt",
        "outputId": "71fac560-ff9f-4639-e926-5a4666b83847"
      },
      "source": [
        "plot_graphs(history, 'loss')"
      ],
      "execution_count": 15,
      "outputs": [
        {
          "output_type": "display_data",
          "data": {
            "image/png": "[encoded data removed]",
            "text/plain": [
              "<Figure size 432x288 with 1 Axes>"
            ]
          },
          "metadata": {
            "tags": [],
            "needs_background": "light"
          }
        }
      ]
    }
  ]
}